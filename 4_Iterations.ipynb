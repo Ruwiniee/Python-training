{
  "nbformat": 4,
  "nbformat_minor": 0,
  "metadata": {
    "colab": {
      "name": "4. Iterations.ipynb",
      "provenance": [],
      "collapsed_sections": [
        "6F6JSBKV1k22",
        "sAzQQ8Hc4Qr8"
      ]
    },
    "kernelspec": {
      "name": "python3",
      "display_name": "Python 3"
    }
  },
  "cells": [
    {
      "cell_type": "markdown",
      "metadata": {
        "id": "6F6JSBKV1k22"
      },
      "source": [
        "# Iteration"
      ]
    },
    {
      "cell_type": "markdown",
      "metadata": {
        "id": "a35ZVWOV1k25"
      },
      "source": [
        "### While loops"
      ]
    },
    {
      "cell_type": "markdown",
      "metadata": {
        "id": "fMZjUZ_I1k27"
      },
      "source": [
        "Instruct your computer to continously execute your code based on the value of a condition"
      ]
    },
    {
      "cell_type": "code",
      "metadata": {
        "scrolled": true,
        "id": "ou882Rhn1k2_",
        "outputId": "d09c3897-193d-4586-ff06-8906d5d71996",
        "colab": {
          "base_uri": "https://localhost:8080/"
        }
      },
      "source": [
        "x = 0 \n",
        "while x<5:\n",
        "    print(\"Not there yet, x=\" +str(x))\n",
        "    x = x + 1\n",
        "print(\"x=\" + str(x))"
      ],
      "execution_count": null,
      "outputs": [
        {
          "output_type": "stream",
          "name": "stdout",
          "text": [
            "Not there yet, x=0\n",
            "Not there yet, x=1\n",
            "Not there yet, x=2\n",
            "Not there yet, x=3\n",
            "Not there yet, x=4\n",
            "x=5\n"
          ]
        }
      ]
    },
    {
      "cell_type": "code",
      "metadata": {
        "id": "2IIb_bU21k3R"
      },
      "source": [
        "def attempts(n):\n",
        "    x=1\n",
        "    while x <= n:\n",
        "        print(\"Attempt \" +str(x))\n",
        "        x += 1          #this is shorthand version of x=x+1\n",
        "    print(\"Done\")"
      ],
      "execution_count": null,
      "outputs": []
    },
    {
      "cell_type": "code",
      "metadata": {
        "id": "Nb-sH8ml1k3x",
        "outputId": "9190f83b-6cda-40f4-be1f-b0ca704a9a6f",
        "colab": {
          "base_uri": "https://localhost:8080/"
        }
      },
      "source": [
        "attempts(5)"
      ],
      "execution_count": null,
      "outputs": [
        {
          "output_type": "stream",
          "name": "stdout",
          "text": [
            "Attempt 1\n",
            "Attempt 2\n",
            "Attempt 3\n",
            "Attempt 4\n",
            "Attempt 5\n",
            "Done\n"
          ]
        }
      ]
    },
    {
      "cell_type": "markdown",
      "metadata": {
        "id": "UQfkyinz1k3-"
      },
      "source": [
        "### for loops"
      ]
    },
    {
      "cell_type": "markdown",
      "metadata": {
        "id": "JyB1OYuE1k4C"
      },
      "source": [
        "Iterates over a sequence of values"
      ]
    },
    {
      "cell_type": "code",
      "metadata": {
        "id": "Fczz-MHe1k4F",
        "outputId": "eed1a0a1-933a-4bba-843d-81d2e1f8e547",
        "colab": {
          "base_uri": "https://localhost:8080/"
        }
      },
      "source": [
        "for x in range(5):\n",
        "    print(x)"
      ],
      "execution_count": null,
      "outputs": [
        {
          "output_type": "stream",
          "name": "stdout",
          "text": [
            "0\n",
            "1\n",
            "2\n",
            "3\n",
            "4\n"
          ]
        }
      ]
    },
    {
      "cell_type": "markdown",
      "metadata": {
        "id": "wuyoZMpC1k4P"
      },
      "source": [
        "### About range functions "
      ]
    },
    {
      "cell_type": "markdown",
      "metadata": {
        "id": "VVD07cp81k4T"
      },
      "source": [
        "1.In Python, and a lot of other programming languages, a range of numbers will start with the value o by default."
      ]
    },
    {
      "cell_type": "markdown",
      "metadata": {
        "id": "ud2pA6CI1k4V"
      },
      "source": [
        "2.The list of numbers generated will be one less than given value."
      ]
    },
    {
      "cell_type": "code",
      "metadata": {
        "id": "O-WtVMwU1k4Y",
        "outputId": "1f809916-6fe1-40fd-a850-b3eb1741a5db",
        "colab": {
          "base_uri": "https://localhost:8080/"
        }
      },
      "source": [
        "def square(n):\n",
        "    return n*n\n",
        "\n",
        "def sum_squares(x):\n",
        "    sum = 0\n",
        "    for n in range(x):\n",
        "      sum += square(n)\n",
        "    return sum\n",
        "\n",
        "print(sum_squares(10)) # Should be 285"
      ],
      "execution_count": null,
      "outputs": [
        {
          "output_type": "stream",
          "name": "stdout",
          "text": [
            "285\n"
          ]
        }
      ]
    },
    {
      "cell_type": "code",
      "metadata": {
        "id": "23nJLC0y1k4s",
        "outputId": "c3802086-757f-4086-aab7-c2500a969621",
        "colab": {
          "base_uri": "https://localhost:8080/"
        }
      },
      "source": [
        "words = \"Hello worlds\"\n",
        "for letter in words:\n",
        "    print(letter)"
      ],
      "execution_count": null,
      "outputs": [
        {
          "output_type": "stream",
          "name": "stdout",
          "text": [
            "H\n",
            "e\n",
            "l\n",
            "l\n",
            "o\n",
            " \n",
            "w\n",
            "o\n",
            "r\n",
            "l\n",
            "d\n",
            "s\n"
          ]
        }
      ]
    },
    {
      "cell_type": "code",
      "metadata": {
        "id": "QuoTuGsk1k47",
        "outputId": "0409e8a9-6f2f-42cf-99c4-89514bcfe9d6",
        "colab": {
          "base_uri": "https://localhost:8080/"
        }
      },
      "source": [
        "friends = ['Joseph', 'Glenn', 'Sally']   #list of string\n",
        "\n",
        "for friend in friends:\n",
        "    print('Happy New Year:', friend)\n"
      ],
      "execution_count": null,
      "outputs": [
        {
          "output_type": "stream",
          "name": "stdout",
          "text": [
            "Happy New Year: Joseph\n",
            "Happy New Year: Glenn\n",
            "Happy New Year: Sally\n"
          ]
        }
      ]
    },
    {
      "cell_type": "code",
      "metadata": {
        "id": "kCywaN-O1k5L",
        "outputId": "23bfb0c7-21c5-4169-969c-bc3fb25b693e",
        "colab": {
          "base_uri": "https://localhost:8080/"
        }
      },
      "source": [
        "def to_celsius(x):\n",
        "    return (x-32)*5/9\n",
        "\n",
        "for x in range(0,101,10):\n",
        "    print(x,to_celsius(x))"
      ],
      "execution_count": null,
      "outputs": [
        {
          "output_type": "stream",
          "name": "stdout",
          "text": [
            "0 -17.77777777777778\n",
            "10 -12.222222222222221\n",
            "20 -6.666666666666667\n",
            "30 -1.1111111111111112\n",
            "40 4.444444444444445\n",
            "50 10.0\n",
            "60 15.555555555555555\n",
            "70 21.11111111111111\n",
            "80 26.666666666666668\n",
            "90 32.22222222222222\n",
            "100 37.77777777777778\n"
          ]
        }
      ]
    },
    {
      "cell_type": "markdown",
      "metadata": {
        "id": "quC2eVKN1k5Z"
      },
      "source": [
        "## recursion"
      ]
    },
    {
      "cell_type": "markdown",
      "metadata": {
        "id": "xeTsWEEz1k5e"
      },
      "source": [
        "The repeated application of the same procedure to a smaller problem"
      ]
    },
    {
      "cell_type": "code",
      "metadata": {
        "id": "M7EQFddy1k5h"
      },
      "source": [
        "def factorial(n):\n",
        "    if n<2:\n",
        "        return 1\n",
        "    return n*factorial(n-1)"
      ],
      "execution_count": null,
      "outputs": []
    },
    {
      "cell_type": "code",
      "metadata": {
        "id": "impcegL-1k5u",
        "outputId": "9c27e4c5-6a42-4a21-c8b5-9f827a8ebdcf",
        "colab": {
          "base_uri": "https://localhost:8080/"
        }
      },
      "source": [
        "factorial(7)"
      ],
      "execution_count": null,
      "outputs": [
        {
          "output_type": "execute_result",
          "data": {
            "text/plain": [
              "5040"
            ]
          },
          "metadata": {},
          "execution_count": 27
        }
      ]
    },
    {
      "cell_type": "markdown",
      "metadata": {
        "id": "sAzQQ8Hc4Qr8"
      },
      "source": [
        "# More examples\n",
        "\n"
      ]
    },
    {
      "cell_type": "code",
      "metadata": {
        "id": "9Jfy8dld-52y",
        "colab": {
          "base_uri": "https://localhost:8080/"
        },
        "outputId": "3b6fd2fe-c696-4140-a787-4a45bc111953"
      },
      "source": [
        "trainees = ['supun', 'charith', 'malan', 'helen']\n",
        "\n",
        "for trainee in trainees:\n",
        "  print(trainee)"
      ],
      "execution_count": null,
      "outputs": [
        {
          "output_type": "stream",
          "name": "stdout",
          "text": [
            "supun\n",
            "charith\n",
            "malan\n",
            "helen\n"
          ]
        }
      ]
    },
    {
      "cell_type": "code",
      "metadata": {
        "id": "VataLGesaSgf",
        "colab": {
          "base_uri": "https://localhost:8080/"
        },
        "outputId": "c646086b-500f-41ca-a124-6fe165e1483b"
      },
      "source": [
        "words = ['and', 'the', 'they', 'I']\n",
        "\n",
        "for word in words:\n",
        "  print(word)"
      ],
      "execution_count": null,
      "outputs": [
        {
          "output_type": "stream",
          "name": "stdout",
          "text": [
            "and\n",
            "the\n",
            "they\n",
            "I\n"
          ]
        }
      ]
    },
    {
      "cell_type": "code",
      "metadata": {
        "id": "TePkbefRahZD",
        "colab": {
          "base_uri": "https://localhost:8080/"
        },
        "outputId": "6ed51a17-1663-4995-d6dc-5e1d02c8f264"
      },
      "source": [
        "name = \"Vimu\"\n",
        "\n",
        "for letter in name:\n",
        "  print(letter)"
      ],
      "execution_count": null,
      "outputs": [
        {
          "output_type": "stream",
          "name": "stdout",
          "text": [
            "V\n",
            "i\n",
            "m\n",
            "u\n"
          ]
        }
      ]
    },
    {
      "cell_type": "code",
      "metadata": {
        "id": "p7mZi-vKayyH",
        "colab": {
          "base_uri": "https://localhost:8080/"
        },
        "outputId": "614ecc33-dd31-4779-8913-9da68e788bf4"
      },
      "source": [
        "for item in range(2, 15, 3):\n",
        "  if item % 2 == 0:\n",
        "    print(item, ' is an even number')\n",
        "  else:\n",
        "    print(item, ' is an odd number')\n",
        "  #continue\n",
        "  if item == 5:\n",
        "    print('Stoping going forward, starting the loop iteration again')\n",
        "    continue \n",
        "  #break\n",
        "  if item == 11:\n",
        "    print('breaking out of the loop')\n",
        "    break\n",
        "  print('This is the end of the loop iteration')\n",
        "\n",
        "\n",
        "  "
      ],
      "execution_count": null,
      "outputs": [
        {
          "output_type": "stream",
          "name": "stdout",
          "text": [
            "2  is an even number\n",
            "This is the end of the loop iteration\n",
            "5  is an odd number\n",
            "Stoping going forward, starting the loop iteration again\n",
            "8  is an even number\n",
            "This is the end of the loop iteration\n",
            "11  is an odd number\n",
            "breaking out of the loop\n"
          ]
        }
      ]
    },
    {
      "cell_type": "code",
      "metadata": {
        "id": "RCr_s-y1bE0Z",
        "colab": {
          "base_uri": "https://localhost:8080/"
        },
        "outputId": "48290f6d-fcd5-4cb6-eb62-85a2609fd58e"
      },
      "source": [
        "#while \n",
        "x = 10 \n",
        "index = 0\n",
        "\n",
        "while index < x:\n",
        "  print(index)\n",
        "  index += 1\n",
        "\n",
        "  if index == 5:\n",
        "    print('Using continue')\n",
        "    continue\n",
        "  \n",
        "  if index == 7:\n",
        "    break\n"
      ],
      "execution_count": null,
      "outputs": [
        {
          "output_type": "stream",
          "name": "stdout",
          "text": [
            "0\n",
            "1\n",
            "2\n",
            "3\n",
            "4\n",
            "Using continue\n",
            "5\n",
            "6\n"
          ]
        }
      ]
    },
    {
      "cell_type": "code",
      "metadata": {
        "id": "RB_ESLPddEw3",
        "colab": {
          "base_uri": "https://localhost:8080/"
        },
        "outputId": "a1a65127-87ad-4739-e3d5-fda1ac30b497"
      },
      "source": [
        "#ENUMERATE\n",
        "trainees = ['supun', 'charith', 'malan', 'helen']\n",
        "\n",
        "for index, trainee in enumerate(trainees):\n",
        "  print(index, \" \", trainee)"
      ],
      "execution_count": null,
      "outputs": [
        {
          "output_type": "stream",
          "name": "stdout",
          "text": [
            "0   supun\n",
            "1   charith\n",
            "2   malan\n",
            "3   helen\n"
          ]
        }
      ]
    },
    {
      "cell_type": "code",
      "metadata": {
        "id": "zGsLNQYDePhe",
        "colab": {
          "base_uri": "https://localhost:8080/"
        },
        "outputId": "853d0f17-3c37-440f-de61-c366f4930645"
      },
      "source": [
        "mydict = { 'name':'vimu', 'age':'25', 'key3':'value3'}\n",
        "\n",
        "for item in mydict:\n",
        "  print('key : ', item, ' value: ', mydict[item])"
      ],
      "execution_count": null,
      "outputs": [
        {
          "output_type": "stream",
          "name": "stdout",
          "text": [
            "key :  name  value:  vimu\n",
            "key :  age  value:  25\n",
            "key :  key3  value:  value3\n"
          ]
        }
      ]
    },
    {
      "cell_type": "code",
      "metadata": {
        "id": "ho-NBBXse1Vc"
      },
      "source": [
        ""
      ],
      "execution_count": null,
      "outputs": []
    }
  ]
}